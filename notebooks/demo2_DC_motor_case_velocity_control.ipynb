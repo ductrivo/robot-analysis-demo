{
 "cells": [
  {
   "cell_type": "markdown",
   "id": "d13ab2c8",
   "metadata": {},
   "source": [
    "Given a desired joint trajectory $\\theta_d(t)$, the feedforward-PID control law is given as follows:\n",
    "$$ u = \\dot{\\theta}(t) = \\dot{\\theta_d} + K_p \\theta_e(t) + K_i \\int_0^t \\theta_e \\text{d}t + K_d \\dot{\\theta}_e$$\n",
    "\n",
    "where:\n",
    "\n",
    "- $\\dot{\\theta}_d$ is the desired velocity;\n",
    "- $\\theta_e := \\theta_d(t) - \\theta(t)$ is the angle error;\n",
    "- $K_p,\\, K_i,\\, K_d$ are the PID coefficients."
   ]
  },
  {
   "cell_type": "code",
   "execution_count": null,
   "id": "a4ed8106",
   "metadata": {},
   "outputs": [],
   "source": []
  }
 ],
 "metadata": {
  "language_info": {
   "name": "python"
  }
 },
 "nbformat": 4,
 "nbformat_minor": 5
}
